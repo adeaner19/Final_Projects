{
 "cells": [
  {
   "cell_type": "markdown",
   "metadata": {},
   "source": [
    "# Analysis on World of Warcraft PvP Battlegrounds\n"
   ]
  },
  {
   "cell_type": "markdown",
   "metadata": {},
   "source": [
    "I am looking to pivot my career into the video game industry as a data scientist. With that said, I decided to do an extra credit project around one of longest standing games of all time, World of Warcraft. \n",
    "\n",
    "In World of Warcraft, there are player vs. player (PvP) battlegrounds. Here is a general overview of what that is:\n",
    "\n",
    "\n",
    "   - There are two teams - Horde & Alliance\n",
    "\n",
    "   - The specific battleground (map) is chosen at random. Each map has a designed overall common objective that the teams are battling for and it varies by each map.\n",
    "\n",
    "   - Each of these teams has a combination of characters (classes). Each class has different skills. Some cast spells, some whack people with a sword/axe, and others heal from a distance.\n",
    "   \n",
    "   - Within each class, a player can choose a role. Some classes just do damage (dps) while others can also heal.\n",
    "\n",
    "\n",
    "In World of Warcraft, the player gets to choose quite a bit. They get to choose which faction to play for (Horde or Alliance), what class to play (Warrior, Mage, Druid, etc...more detail in dataframe below), what role to take on (damage or heal), and what battleground (map) they would like to play on. \n",
    "\n",
    "With that said, one of the most key things in game design is \"balance\". I am considering a game to be \"balanced\" if it seems fair in win rates. Everyone wants to feel like they have a chance to win and that they aren't put at a disadvantaged vs. another player just because of what they choose. I will define \"balanced\" as being the highest winrate vs. the lowest winrate to be within +/- 5%. Let's take a look.\n",
    "\n"
   ]
  },
  {
   "cell_type": "markdown",
   "metadata": {},
   "source": [
    "# Data Overview"
   ]
  },
  {
   "cell_type": "markdown",
   "metadata": {},
   "source": [
    "We will first load in the code and look for any cleaning that may need to be done. I will also preface that I do not own this dataset and I downloaded it off a Kaggle user linked below:\n",
    "\n",
    "https://www.kaggle.com/datasets/cblesa/world-of-warcraft-battlegrounds?select=wowbgs2.csv\n",
    "\n",
    "\n",
    "\n",
    "The code is generally pretty clean but I will move a few columns around, remove some NaN values, and convert some column types as needed for later."
   ]
  },
  {
   "cell_type": "code",
   "execution_count": 1,
   "metadata": {
    "collapsed": true
   },
   "outputs": [],
   "source": [
    "import pandas as pd\n",
    "import matplotlib.pyplot as plt"
   ]
  },
  {
   "cell_type": "code",
   "execution_count": 2,
   "metadata": {},
   "outputs": [
    {
     "data": {
      "text/html": [
       "<div>\n",
       "<style scoped>\n",
       "    .dataframe tbody tr th:only-of-type {\n",
       "        vertical-align: middle;\n",
       "    }\n",
       "\n",
       "    .dataframe tbody tr th {\n",
       "        vertical-align: top;\n",
       "    }\n",
       "\n",
       "    .dataframe thead th {\n",
       "        text-align: right;\n",
       "    }\n",
       "</style>\n",
       "<table border=\"1\" class=\"dataframe\">\n",
       "  <thead>\n",
       "    <tr style=\"text-align: right;\">\n",
       "      <th></th>\n",
       "      <th>Battle_ID</th>\n",
       "      <th>Battleground</th>\n",
       "      <th>Faction</th>\n",
       "      <th>Class</th>\n",
       "      <th>KB</th>\n",
       "      <th>D</th>\n",
       "      <th>HK</th>\n",
       "      <th>DD</th>\n",
       "      <th>HD</th>\n",
       "      <th>Honor</th>\n",
       "      <th>Win</th>\n",
       "      <th>Lose</th>\n",
       "      <th>Rol</th>\n",
       "      <th>BE</th>\n",
       "    </tr>\n",
       "  </thead>\n",
       "  <tbody>\n",
       "    <tr>\n",
       "      <th>0</th>\n",
       "      <td>WG1</td>\n",
       "      <td>WG</td>\n",
       "      <td>Horde</td>\n",
       "      <td>Hunter</td>\n",
       "      <td>1</td>\n",
       "      <td>3</td>\n",
       "      <td>14</td>\n",
       "      <td>48155</td>\n",
       "      <td>6641</td>\n",
       "      <td>532</td>\n",
       "      <td>1</td>\n",
       "      <td>0</td>\n",
       "      <td>dps</td>\n",
       "      <td>None</td>\n",
       "    </tr>\n",
       "    <tr>\n",
       "      <th>1</th>\n",
       "      <td>WG1</td>\n",
       "      <td>WG</td>\n",
       "      <td>Horde</td>\n",
       "      <td>Death Knight</td>\n",
       "      <td>1</td>\n",
       "      <td>3</td>\n",
       "      <td>12</td>\n",
       "      <td>27025</td>\n",
       "      <td>7106</td>\n",
       "      <td>377</td>\n",
       "      <td>1</td>\n",
       "      <td>0</td>\n",
       "      <td>dps</td>\n",
       "      <td>None</td>\n",
       "    </tr>\n",
       "    <tr>\n",
       "      <th>2</th>\n",
       "      <td>WG1</td>\n",
       "      <td>WG</td>\n",
       "      <td>Alliance</td>\n",
       "      <td>Paladin</td>\n",
       "      <td>0</td>\n",
       "      <td>1</td>\n",
       "      <td>19</td>\n",
       "      <td>824</td>\n",
       "      <td>93879</td>\n",
       "      <td>252</td>\n",
       "      <td>0</td>\n",
       "      <td>1</td>\n",
       "      <td>heal</td>\n",
       "      <td>None</td>\n",
       "    </tr>\n",
       "    <tr>\n",
       "      <th>3</th>\n",
       "      <td>WG1</td>\n",
       "      <td>WG</td>\n",
       "      <td>Alliance</td>\n",
       "      <td>Paladin</td>\n",
       "      <td>1</td>\n",
       "      <td>2</td>\n",
       "      <td>25</td>\n",
       "      <td>7046</td>\n",
       "      <td>98599</td>\n",
       "      <td>274</td>\n",
       "      <td>0</td>\n",
       "      <td>1</td>\n",
       "      <td>heal</td>\n",
       "      <td>None</td>\n",
       "    </tr>\n",
       "    <tr>\n",
       "      <th>4</th>\n",
       "      <td>WG1</td>\n",
       "      <td>WG</td>\n",
       "      <td>Alliance</td>\n",
       "      <td>Rogue</td>\n",
       "      <td>2</td>\n",
       "      <td>3</td>\n",
       "      <td>23</td>\n",
       "      <td>65483</td>\n",
       "      <td>19629</td>\n",
       "      <td>268</td>\n",
       "      <td>0</td>\n",
       "      <td>1</td>\n",
       "      <td>dps</td>\n",
       "      <td>None</td>\n",
       "    </tr>\n",
       "    <tr>\n",
       "      <th>5</th>\n",
       "      <td>WG1</td>\n",
       "      <td>WG</td>\n",
       "      <td>Horde</td>\n",
       "      <td>Druid</td>\n",
       "      <td>4</td>\n",
       "      <td>5</td>\n",
       "      <td>12</td>\n",
       "      <td>31759</td>\n",
       "      <td>6071</td>\n",
       "      <td>531</td>\n",
       "      <td>1</td>\n",
       "      <td>0</td>\n",
       "      <td>dps</td>\n",
       "      <td>None</td>\n",
       "    </tr>\n",
       "    <tr>\n",
       "      <th>6</th>\n",
       "      <td>WG1</td>\n",
       "      <td>WG</td>\n",
       "      <td>Horde</td>\n",
       "      <td>Shaman</td>\n",
       "      <td>0</td>\n",
       "      <td>4</td>\n",
       "      <td>18</td>\n",
       "      <td>12933</td>\n",
       "      <td>94587</td>\n",
       "      <td>541</td>\n",
       "      <td>1</td>\n",
       "      <td>0</td>\n",
       "      <td>heal</td>\n",
       "      <td>None</td>\n",
       "    </tr>\n",
       "    <tr>\n",
       "      <th>7</th>\n",
       "      <td>WG1</td>\n",
       "      <td>WG</td>\n",
       "      <td>Alliance</td>\n",
       "      <td>Priest</td>\n",
       "      <td>9</td>\n",
       "      <td>5</td>\n",
       "      <td>24</td>\n",
       "      <td>123000</td>\n",
       "      <td>34687</td>\n",
       "      <td>269</td>\n",
       "      <td>0</td>\n",
       "      <td>1</td>\n",
       "      <td>dps</td>\n",
       "      <td>None</td>\n",
       "    </tr>\n",
       "    <tr>\n",
       "      <th>8</th>\n",
       "      <td>WG1</td>\n",
       "      <td>WG</td>\n",
       "      <td>Horde</td>\n",
       "      <td>Druid</td>\n",
       "      <td>2</td>\n",
       "      <td>1</td>\n",
       "      <td>9</td>\n",
       "      <td>13900</td>\n",
       "      <td>2438</td>\n",
       "      <td>523</td>\n",
       "      <td>1</td>\n",
       "      <td>0</td>\n",
       "      <td>dps</td>\n",
       "      <td>None</td>\n",
       "    </tr>\n",
       "    <tr>\n",
       "      <th>9</th>\n",
       "      <td>WG1</td>\n",
       "      <td>WG</td>\n",
       "      <td>Alliance</td>\n",
       "      <td>Priest</td>\n",
       "      <td>0</td>\n",
       "      <td>1</td>\n",
       "      <td>25</td>\n",
       "      <td>12566</td>\n",
       "      <td>36734</td>\n",
       "      <td>276</td>\n",
       "      <td>0</td>\n",
       "      <td>1</td>\n",
       "      <td>heal</td>\n",
       "      <td>None</td>\n",
       "    </tr>\n",
       "    <tr>\n",
       "      <th>10</th>\n",
       "      <td>WG1</td>\n",
       "      <td>WG</td>\n",
       "      <td>Alliance</td>\n",
       "      <td>Rogue</td>\n",
       "      <td>3</td>\n",
       "      <td>1</td>\n",
       "      <td>10</td>\n",
       "      <td>22327</td>\n",
       "      <td>2394</td>\n",
       "      <td>171</td>\n",
       "      <td>0</td>\n",
       "      <td>1</td>\n",
       "      <td>dps</td>\n",
       "      <td>None</td>\n",
       "    </tr>\n",
       "    <tr>\n",
       "      <th>11</th>\n",
       "      <td>WG1</td>\n",
       "      <td>WG</td>\n",
       "      <td>Alliance</td>\n",
       "      <td>Demon Hunter</td>\n",
       "      <td>0</td>\n",
       "      <td>5</td>\n",
       "      <td>15</td>\n",
       "      <td>29664</td>\n",
       "      <td>4364</td>\n",
       "      <td>242</td>\n",
       "      <td>0</td>\n",
       "      <td>1</td>\n",
       "      <td>dps</td>\n",
       "      <td>None</td>\n",
       "    </tr>\n",
       "    <tr>\n",
       "      <th>12</th>\n",
       "      <td>WG1</td>\n",
       "      <td>WG</td>\n",
       "      <td>Horde</td>\n",
       "      <td>Paladin</td>\n",
       "      <td>1</td>\n",
       "      <td>1</td>\n",
       "      <td>17</td>\n",
       "      <td>8529</td>\n",
       "      <td>193000</td>\n",
       "      <td>389</td>\n",
       "      <td>1</td>\n",
       "      <td>0</td>\n",
       "      <td>heal</td>\n",
       "      <td>None</td>\n",
       "    </tr>\n",
       "    <tr>\n",
       "      <th>13</th>\n",
       "      <td>WG1</td>\n",
       "      <td>WG</td>\n",
       "      <td>Horde</td>\n",
       "      <td>Demon Hunter</td>\n",
       "      <td>3</td>\n",
       "      <td>4</td>\n",
       "      <td>18</td>\n",
       "      <td>125000</td>\n",
       "      <td>17460</td>\n",
       "      <td>543</td>\n",
       "      <td>1</td>\n",
       "      <td>0</td>\n",
       "      <td>dps</td>\n",
       "      <td>None</td>\n",
       "    </tr>\n",
       "    <tr>\n",
       "      <th>14</th>\n",
       "      <td>WG1</td>\n",
       "      <td>WG</td>\n",
       "      <td>Alliance</td>\n",
       "      <td>Warlock</td>\n",
       "      <td>8</td>\n",
       "      <td>2</td>\n",
       "      <td>24</td>\n",
       "      <td>101000</td>\n",
       "      <td>21853</td>\n",
       "      <td>270</td>\n",
       "      <td>0</td>\n",
       "      <td>1</td>\n",
       "      <td>dps</td>\n",
       "      <td>None</td>\n",
       "    </tr>\n",
       "  </tbody>\n",
       "</table>\n",
       "</div>"
      ],
      "text/plain": [
       "   Battle_ID Battleground   Faction         Class  KB  D  HK      DD      HD  \\\n",
       "0        WG1           WG     Horde        Hunter   1  3  14   48155    6641   \n",
       "1        WG1           WG     Horde  Death Knight   1  3  12   27025    7106   \n",
       "2        WG1           WG  Alliance       Paladin   0  1  19     824   93879   \n",
       "3        WG1           WG  Alliance       Paladin   1  2  25    7046   98599   \n",
       "4        WG1           WG  Alliance         Rogue   2  3  23   65483   19629   \n",
       "5        WG1           WG     Horde         Druid   4  5  12   31759    6071   \n",
       "6        WG1           WG     Horde        Shaman   0  4  18   12933   94587   \n",
       "7        WG1           WG  Alliance        Priest   9  5  24  123000   34687   \n",
       "8        WG1           WG     Horde         Druid   2  1   9   13900    2438   \n",
       "9        WG1           WG  Alliance        Priest   0  1  25   12566   36734   \n",
       "10       WG1           WG  Alliance         Rogue   3  1  10   22327    2394   \n",
       "11       WG1           WG  Alliance  Demon Hunter   0  5  15   29664    4364   \n",
       "12       WG1           WG     Horde       Paladin   1  1  17    8529  193000   \n",
       "13       WG1           WG     Horde  Demon Hunter   3  4  18  125000   17460   \n",
       "14       WG1           WG  Alliance       Warlock   8  2  24  101000   21853   \n",
       "\n",
       "    Honor  Win  Lose   Rol    BE  \n",
       "0     532    1     0   dps  None  \n",
       "1     377    1     0   dps  None  \n",
       "2     252    0     1  heal  None  \n",
       "3     274    0     1  heal  None  \n",
       "4     268    0     1   dps  None  \n",
       "5     531    1     0   dps  None  \n",
       "6     541    1     0  heal  None  \n",
       "7     269    0     1   dps  None  \n",
       "8     523    1     0   dps  None  \n",
       "9     276    0     1  heal  None  \n",
       "10    171    0     1   dps  None  \n",
       "11    242    0     1   dps  None  \n",
       "12    389    1     0  heal  None  \n",
       "13    543    1     0   dps  None  \n",
       "14    270    0     1   dps  None  "
      ]
     },
     "metadata": {},
     "output_type": "display_data"
    },
    {
     "data": {
      "text/plain": [
       "(5383, 14)"
      ]
     },
     "metadata": {},
     "output_type": "display_data"
    }
   ],
   "source": [
    "#read in the data\n",
    "wow_data = pd.read_csv('wowbgs2.csv')\n",
    "\n",
    "\n",
    "#moving some columns around\n",
    "wow_data['Battleground'], wow_data['Code'] = wow_data['Code'], wow_data['Battleground'] \n",
    "\n",
    "\n",
    "\n",
    "#renaming columns after the move\n",
    "wow_data = wow_data.rename(columns={'Battleground': 'Battle_ID', 'Code': 'Battleground'})\n",
    "\n",
    "\n",
    "\n",
    "#replacing NaN's with 0's and making these columns integers\n",
    "wow_data['Win'] = wow_data['Win'].fillna(0).astype(int)\n",
    "wow_data['Lose'] = wow_data['Lose'].fillna(0).astype(int)\n",
    "\n",
    "\n",
    "\n",
    "#replacing NaN's with 'None' instead. Also replacing '1's with \"Yes\" to replicate a string consistency in this column.\n",
    "wow_data['BE'] = wow_data['BE'].fillna(\"None\")\n",
    "wow_data.loc[wow_data['BE'] == 1, 'BE'] = 'Yes'\n",
    "\n",
    "\n",
    "\n",
    "#checking to see if any rows still have NaN in them for cleaning\n",
    "NaN_rows = wow_data[wow_data.isna().any(axis = 1)]\n",
    "\n",
    "\n",
    "\n",
    "#display(NaN_rows)\n",
    "\n",
    "#display(wow_data.dtypes) --- used to look at values but not putting in final code\n",
    "\n",
    "#shows just column headers which is good! Meaning no missing data\n",
    "\n",
    "\n",
    "\n",
    "#displaying the data \n",
    "display(wow_data.head(15))\n",
    "display(wow_data.shape)\n"
   ]
  },
  {
   "cell_type": "markdown",
   "metadata": {},
   "source": [
    "Based on the above it would be helpful to have some descriptions of what each column is. Below is a description of each column:\n",
    "\n",
    " - **Battle_ID**: The unique identifier for the battle\n",
    " - **Battleground**: The map chosen. Each map has a name. These are abbreviations of those names.\n",
    " - **Faction**: The \"team\" that the player is playing for. Either Horde or Alliance.\n",
    " - **Class**: Which class the player is\n",
    " - **KB**: This stands for 'killing blows'. To get a killing blow, you must be the last person to hit the enemy before they die.\n",
    " - **D**: The number of deaths a player has in a battleground\n",
    " - **HK**: This stands for 'honorable kills' which is the total number of kills a player contributed to in a given battleground.\n",
    " - **DD**: Total damage done by a player\n",
    " - **HD**: Total healing done by a player\n",
    " - **Win**: '1' if the team won and '0' if Lost\n",
    " - **Rol**: Stands for 'Role'. 'Dps' is a damage-dealer class and 'heal' is a healer class\n",
    " - **BE**: Sometimes there are bonuses offered on the weekend to encourage people to play in a battleground. None or Yes.\n",
    "\n",
    "\n"
   ]
  },
  {
   "cell_type": "markdown",
   "metadata": {},
   "source": [
    "# Player Choice Number 1 - Choosing Faction"
   ]
  },
  {
   "cell_type": "markdown",
   "metadata": {
    "collapsed": true
   },
   "source": [
    "One of the very first choices you get to do in World of Warcraft is pick your faction. You can either play Horde or Alliance. Let's start off by looking at the number of Horde and Alliance in our dataset.\n"
   ]
  },
  {
   "cell_type": "code",
   "execution_count": 3,
   "metadata": {},
   "outputs": [
    {
     "data": {
      "text/html": [
       "<div>\n",
       "<style scoped>\n",
       "    .dataframe tbody tr th:only-of-type {\n",
       "        vertical-align: middle;\n",
       "    }\n",
       "\n",
       "    .dataframe tbody tr th {\n",
       "        vertical-align: top;\n",
       "    }\n",
       "\n",
       "    .dataframe thead th {\n",
       "        text-align: right;\n",
       "    }\n",
       "</style>\n",
       "<table border=\"1\" class=\"dataframe\">\n",
       "  <thead>\n",
       "    <tr style=\"text-align: right;\">\n",
       "      <th></th>\n",
       "      <th>Faction</th>\n",
       "      <th>Number_of_Players</th>\n",
       "    </tr>\n",
       "  </thead>\n",
       "  <tbody>\n",
       "    <tr>\n",
       "      <th>0</th>\n",
       "      <td>Alliance</td>\n",
       "      <td>2679</td>\n",
       "    </tr>\n",
       "    <tr>\n",
       "      <th>1</th>\n",
       "      <td>Horde</td>\n",
       "      <td>2704</td>\n",
       "    </tr>\n",
       "  </tbody>\n",
       "</table>\n",
       "</div>"
      ],
      "text/plain": [
       "    Faction  Number_of_Players\n",
       "0  Alliance               2679\n",
       "1     Horde               2704"
      ]
     },
     "metadata": {},
     "output_type": "display_data"
    },
    {
     "data": {
      "image/png": "[encoded data removed]",
      "text/plain": [
       "<Figure size 504x504 with 1 Axes>"
      ]
     },
     "metadata": {},
     "output_type": "display_data"
    }
   ],
   "source": [
    "#grouping by faction\n",
    "grouped_factions = wow_data.groupby(wow_data['Faction']).size()\n",
    "\n",
    "#moving Series into DataFrame\n",
    "grouped_factions_df = pd.DataFrame({'Number_of_Players' : grouped_factions})\n",
    "grouped_factions_df.reset_index(inplace = True)\n",
    "display(grouped_factions_df)\n",
    "\n",
    "\n",
    "#graphing pie chart\n",
    "pie_chart_faction = grouped_factions_df.plot.pie(y= 'Number_of_Players', \n",
    "                                              labels=grouped_factions_df['Faction'], \n",
    "                                              autopct='%1.1f%%',\n",
    "                                              figsize = (7,7),\n",
    "                                              fontsize = 15)\n"
   ]
  },
  {
   "cell_type": "markdown",
   "metadata": {},
   "source": [
    "We see that the proportion of Horde to Alliance players are pretty similar overall which would make sense. When you sign up for a battleground, the game typically takes somewhere between 10-30 people per faction and throws them together to verse eachother. There could be minor differences in people leaving matches early, someone disconnecting, or someone not getting connected in the beginning. So this checks out. It is interesting to note, however, that the Horde have a slight advantage in Number_of_Players. While this likely isn't a huge contributor, it definitely could sway win rate a tad in their direction."
   ]
  },
  {
   "cell_type": "markdown",
   "metadata": {},
   "source": [
    "\n",
    "Now that we know the total number per faction, lets now look at our win rates by faction. If one faction has a materially higher win rate than the other faction, this would likely indicate to some inbalance in the game between teams."
   ]
  },
  {
   "cell_type": "code",
   "execution_count": 4,
   "metadata": {},
   "outputs": [
    {
     "data": {
      "text/html": [
       "<div>\n",
       "<style scoped>\n",
       "    .dataframe tbody tr th:only-of-type {\n",
       "        vertical-align: middle;\n",
       "    }\n",
       "\n",
       "    .dataframe tbody tr th {\n",
       "        vertical-align: top;\n",
       "    }\n",
       "\n",
       "    .dataframe thead th {\n",
       "        text-align: right;\n",
       "    }\n",
       "</style>\n",
       "<table border=\"1\" class=\"dataframe\">\n",
       "  <thead>\n",
       "    <tr style=\"text-align: right;\">\n",
       "      <th></th>\n",
       "      <th>Faction</th>\n",
       "      <th>Win</th>\n",
       "      <th>Lose</th>\n",
       "      <th>Win_Percentage</th>\n",
       "    </tr>\n",
       "  </thead>\n",
       "  <tbody>\n",
       "    <tr>\n",
       "      <th>0</th>\n",
       "      <td>Alliance</td>\n",
       "      <td>1000</td>\n",
       "      <td>1679</td>\n",
       "      <td>37.33%</td>\n",
       "    </tr>\n",
       "    <tr>\n",
       "      <th>1</th>\n",
       "      <td>Horde</td>\n",
       "      <td>1723</td>\n",
       "      <td>981</td>\n",
       "      <td>63.72%</td>\n",
       "    </tr>\n",
       "  </tbody>\n",
       "</table>\n",
       "</div>"
      ],
      "text/plain": [
       "    Faction   Win  Lose Win_Percentage\n",
       "0  Alliance  1000  1679         37.33%\n",
       "1     Horde  1723   981         63.72%"
      ]
     },
     "metadata": {},
     "output_type": "display_data"
    },
    {
     "data": {
      "image/png": "[encoded data removed]",
      "text/plain": [
       "<Figure size 504x504 with 1 Axes>"
      ]
     },
     "metadata": {},
     "output_type": "display_data"
    }
   ],
   "source": [
    "\n",
    "#group by faction\n",
    "grouped_factions = wow_data.groupby(wow_data['Faction']).sum().reset_index()\n",
    "\n",
    "#creat winrate column\n",
    "grouped_factions['Win_Percentage'] = grouped_factions['Win'] / (grouped_factions['Win'] + grouped_factions['Lose'] )\n",
    "\n",
    "\n",
    "#sort by lowest to highest winrate\n",
    "grouped_factions = grouped_factions.sort_values(by = 'Win_Percentage', ascending = True)\n",
    "\n",
    "grouped_factions.reset_index(drop = True, inplace = True)\n",
    "\n",
    "#formating to percentage\n",
    "grouped_factions['Win_Percentage'] = grouped_factions['Win_Percentage'].map(lambda x: \"{:.2%}\".format(x))\n",
    "\n",
    "\n",
    "display(grouped_factions[['Faction', 'Win', 'Lose', 'Win_Percentage']])\n",
    "\n",
    "#stripping % and moving back into float in order to graph\n",
    "grouped_factions['Win_Percentage'] = grouped_factions['Win_Percentage'].str.rstrip('%').astype(float) / 100\n",
    "\n",
    "#graphing\n",
    "pie_chart_faction = grouped_factions.plot.pie(y= 'Win_Percentage', \n",
    "                                              labels=grouped_factions['Faction'], \n",
    "                                              autopct='%1.1f%%',\n",
    "                                              figsize = (7,7),\n",
    "                                              fontsize = 15)\n",
    "\n",
    "\n",
    "\n"
   ]
  },
  {
   "cell_type": "markdown",
   "metadata": {},
   "source": [
    "We see from the above that the Horde have an overwhelming higher win rate percentage than the Alliance. This would indicate that there is likely some inbalance in the game between teams since it is larger than my defined 5%. Let's dig deeper now on the player's second choice - Class Selection - to see if that is a factor here. "
   ]
  },
  {
   "cell_type": "markdown",
   "metadata": {},
   "source": [
    "# Player Choice Number 2 - What Class to Play?"
   ]
  },
  {
   "cell_type": "markdown",
   "metadata": {},
   "source": [
    "The second choice a player gets to make is decide what class they would like to play. In general, there are 12 different classes in this version of World of Warcraft, and they all have different skills and abilities that create different playstyles in the game. One of the hardest things to accomplish in a game is to make all classes \"semi-equal\" to create balance. So as time goes on, the game maker likely will keep tweaking the game design to make weaker classes stronger and strong classes weaker to try and find the perfect balance in the game.\n",
    "\n",
    "First lets look at the distribution of players and what classes they are playing across all factions."
   ]
  },
  {
   "cell_type": "code",
   "execution_count": 5,
   "metadata": {},
   "outputs": [
    {
     "data": {
      "text/html": [
       "<div>\n",
       "<style scoped>\n",
       "    .dataframe tbody tr th:only-of-type {\n",
       "        vertical-align: middle;\n",
       "    }\n",
       "\n",
       "    .dataframe tbody tr th {\n",
       "        vertical-align: top;\n",
       "    }\n",
       "\n",
       "    .dataframe thead th {\n",
       "        text-align: right;\n",
       "    }\n",
       "</style>\n",
       "<table border=\"1\" class=\"dataframe\">\n",
       "  <thead>\n",
       "    <tr style=\"text-align: right;\">\n",
       "      <th></th>\n",
       "      <th>Class</th>\n",
       "      <th>Number_of_Players</th>\n",
       "    </tr>\n",
       "  </thead>\n",
       "  <tbody>\n",
       "    <tr>\n",
       "      <th>0</th>\n",
       "      <td>Shaman</td>\n",
       "      <td>588</td>\n",
       "    </tr>\n",
       "    <tr>\n",
       "      <th>1</th>\n",
       "      <td>Druid</td>\n",
       "      <td>556</td>\n",
       "    </tr>\n",
       "    <tr>\n",
       "      <th>2</th>\n",
       "      <td>Warrior</td>\n",
       "      <td>527</td>\n",
       "    </tr>\n",
       "    <tr>\n",
       "      <th>3</th>\n",
       "      <td>Paladin</td>\n",
       "      <td>486</td>\n",
       "    </tr>\n",
       "    <tr>\n",
       "      <th>4</th>\n",
       "      <td>Hunter</td>\n",
       "      <td>483</td>\n",
       "    </tr>\n",
       "    <tr>\n",
       "      <th>5</th>\n",
       "      <td>Mage</td>\n",
       "      <td>480</td>\n",
       "    </tr>\n",
       "    <tr>\n",
       "      <th>6</th>\n",
       "      <td>Priest</td>\n",
       "      <td>466</td>\n",
       "    </tr>\n",
       "    <tr>\n",
       "      <th>7</th>\n",
       "      <td>Rogue</td>\n",
       "      <td>428</td>\n",
       "    </tr>\n",
       "    <tr>\n",
       "      <th>8</th>\n",
       "      <td>Warlock</td>\n",
       "      <td>416</td>\n",
       "    </tr>\n",
       "    <tr>\n",
       "      <th>9</th>\n",
       "      <td>Demon Hunter</td>\n",
       "      <td>378</td>\n",
       "    </tr>\n",
       "    <tr>\n",
       "      <th>10</th>\n",
       "      <td>Death Knight</td>\n",
       "      <td>343</td>\n",
       "    </tr>\n",
       "    <tr>\n",
       "      <th>11</th>\n",
       "      <td>Monk</td>\n",
       "      <td>232</td>\n",
       "    </tr>\n",
       "  </tbody>\n",
       "</table>\n",
       "</div>"
      ],
      "text/plain": [
       "           Class  Number_of_Players\n",
       "0         Shaman                588\n",
       "1          Druid                556\n",
       "2        Warrior                527\n",
       "3        Paladin                486\n",
       "4         Hunter                483\n",
       "5           Mage                480\n",
       "6         Priest                466\n",
       "7          Rogue                428\n",
       "8        Warlock                416\n",
       "9   Demon Hunter                378\n",
       "10  Death Knight                343\n",
       "11          Monk                232"
      ]
     },
     "metadata": {},
     "output_type": "display_data"
    },
    {
     "data": {
      "text/plain": [
       "5383"
      ]
     },
     "metadata": {},
     "output_type": "display_data"
    },
    {
     "data": {
      "image/png": "[encoded data removed]",
      "text/plain": [
       "<Figure size 1080x432 with 1 Axes>"
      ]
     },
     "metadata": {
      "needs_background": "light"
     },
     "output_type": "display_data"
    }
   ],
   "source": [
    "#grouping by class, counting, sorting, then checking to make sure total still is total number of rows\n",
    "grouped_by_class = wow_data.groupby('Class').size()\n",
    "grouped_by_class = grouped_by_class.sort_values(ascending = False)\n",
    "\n",
    "#creating dataframe from the series data\n",
    "grouped_df = pd.DataFrame({'Number_of_Players' : grouped_by_class})\n",
    "grouped_df.reset_index(inplace = True)\n",
    "display(grouped_df)\n",
    "\n",
    "\n",
    "display(grouped_by_class.sum())\n",
    "\n",
    "#bar chart\n",
    "bar_chart_class = grouped_by_class.plot.bar(xlabel = \"Class\", ylabel ='Count', \n",
    "                                            color = ['blue', 'orange', 'saddlebrown', 'hotpink', 'green', 'dodgerblue',\n",
    "                                                    'silver', 'gold', 'blueviolet', 'indigo', 'firebrick', 'teal'], \n",
    "                                            figsize = (15,6),\n",
    "                                            fontsize = 15,\n",
    "                                            title = \"Popularity of Each Class\"\n",
    "                                            )\n",
    "\n",
    "\n"
   ]
  },
  {
   "cell_type": "markdown",
   "metadata": {},
   "source": [
    "We see from the above that the \"Shaman\" class is the most popular class while the \"Monk\" is the least popular class. My asumption would be that the highest played classes likely have the highest win rates. So let's compare how well these classes do in battlegrounds to see if there is any connection between the popularity of the class vs. the win-rate of the class in a battleground."
   ]
  },
  {
   "cell_type": "code",
   "execution_count": 6,
   "metadata": {},
   "outputs": [
    {
     "data": {
      "text/html": [
       "<div>\n",
       "<style scoped>\n",
       "    .dataframe tbody tr th:only-of-type {\n",
       "        vertical-align: middle;\n",
       "    }\n",
       "\n",
       "    .dataframe tbody tr th {\n",
       "        vertical-align: top;\n",
       "    }\n",
       "\n",
       "    .dataframe thead th {\n",
       "        text-align: right;\n",
       "    }\n",
       "</style>\n",
       "<table border=\"1\" class=\"dataframe\">\n",
       "  <thead>\n",
       "    <tr style=\"text-align: right;\">\n",
       "      <th></th>\n",
       "      <th>Class</th>\n",
       "      <th>Win</th>\n",
       "      <th>Lose</th>\n",
       "      <th>Win_Percentage</th>\n",
       "      <th>Number_of_Players</th>\n",
       "    </tr>\n",
       "  </thead>\n",
       "  <tbody>\n",
       "    <tr>\n",
       "      <th>0</th>\n",
       "      <td>Shaman</td>\n",
       "      <td>323</td>\n",
       "      <td>265</td>\n",
       "      <td>54.93%</td>\n",
       "      <td>588</td>\n",
       "    </tr>\n",
       "    <tr>\n",
       "      <th>1</th>\n",
       "      <td>Death Knight</td>\n",
       "      <td>185</td>\n",
       "      <td>158</td>\n",
       "      <td>53.94%</td>\n",
       "      <td>343</td>\n",
       "    </tr>\n",
       "    <tr>\n",
       "      <th>2</th>\n",
       "      <td>Rogue</td>\n",
       "      <td>230</td>\n",
       "      <td>198</td>\n",
       "      <td>53.74%</td>\n",
       "      <td>428</td>\n",
       "    </tr>\n",
       "    <tr>\n",
       "      <th>3</th>\n",
       "      <td>Demon Hunter</td>\n",
       "      <td>202</td>\n",
       "      <td>176</td>\n",
       "      <td>53.44%</td>\n",
       "      <td>378</td>\n",
       "    </tr>\n",
       "    <tr>\n",
       "      <th>4</th>\n",
       "      <td>Warlock</td>\n",
       "      <td>216</td>\n",
       "      <td>200</td>\n",
       "      <td>51.92%</td>\n",
       "      <td>416</td>\n",
       "    </tr>\n",
       "    <tr>\n",
       "      <th>5</th>\n",
       "      <td>Monk</td>\n",
       "      <td>119</td>\n",
       "      <td>113</td>\n",
       "      <td>51.29%</td>\n",
       "      <td>232</td>\n",
       "    </tr>\n",
       "    <tr>\n",
       "      <th>6</th>\n",
       "      <td>Priest</td>\n",
       "      <td>234</td>\n",
       "      <td>232</td>\n",
       "      <td>50.21%</td>\n",
       "      <td>466</td>\n",
       "    </tr>\n",
       "    <tr>\n",
       "      <th>7</th>\n",
       "      <td>Paladin</td>\n",
       "      <td>240</td>\n",
       "      <td>246</td>\n",
       "      <td>49.38%</td>\n",
       "      <td>486</td>\n",
       "    </tr>\n",
       "    <tr>\n",
       "      <th>8</th>\n",
       "      <td>Warrior</td>\n",
       "      <td>259</td>\n",
       "      <td>268</td>\n",
       "      <td>49.15%</td>\n",
       "      <td>527</td>\n",
       "    </tr>\n",
       "    <tr>\n",
       "      <th>9</th>\n",
       "      <td>Mage</td>\n",
       "      <td>233</td>\n",
       "      <td>247</td>\n",
       "      <td>48.54%</td>\n",
       "      <td>480</td>\n",
       "    </tr>\n",
       "    <tr>\n",
       "      <th>10</th>\n",
       "      <td>Druid</td>\n",
       "      <td>267</td>\n",
       "      <td>289</td>\n",
       "      <td>48.02%</td>\n",
       "      <td>556</td>\n",
       "    </tr>\n",
       "    <tr>\n",
       "      <th>11</th>\n",
       "      <td>Hunter</td>\n",
       "      <td>215</td>\n",
       "      <td>268</td>\n",
       "      <td>44.51%</td>\n",
       "      <td>483</td>\n",
       "    </tr>\n",
       "  </tbody>\n",
       "</table>\n",
       "</div>"
      ],
      "text/plain": [
       "           Class  Win  Lose Win_Percentage  Number_of_Players\n",
       "0         Shaman  323   265         54.93%                588\n",
       "1   Death Knight  185   158         53.94%                343\n",
       "2          Rogue  230   198         53.74%                428\n",
       "3   Demon Hunter  202   176         53.44%                378\n",
       "4        Warlock  216   200         51.92%                416\n",
       "5           Monk  119   113         51.29%                232\n",
       "6         Priest  234   232         50.21%                466\n",
       "7        Paladin  240   246         49.38%                486\n",
       "8        Warrior  259   268         49.15%                527\n",
       "9           Mage  233   247         48.54%                480\n",
       "10         Druid  267   289         48.02%                556\n",
       "11        Hunter  215   268         44.51%                483"
      ]
     },
     "metadata": {},
     "output_type": "display_data"
    }
   ],
   "source": [
    "#grouping by class and summing up stats\n",
    "grouped_metrics = wow_data.groupby(wow_data['Class']).sum().reset_index()\n",
    "\n",
    "\n",
    "\n",
    "#calculating a win-rate column, sorting, and reindexing with reformat\n",
    "grouped_metrics['Win_Percentage'] = grouped_metrics['Win'] / (grouped_metrics['Win'] + grouped_metrics['Lose'] )\n",
    "\n",
    "grouped_metrics = grouped_metrics.sort_values(by = 'Win_Percentage', ascending = False)\n",
    "\n",
    "grouped_metrics.reset_index(drop = True, inplace = True)\n",
    "\n",
    "grouped_metrics['Win_Percentage'] = grouped_metrics['Win_Percentage'].map(lambda x: \"{:.2%}\".format(x))\n",
    "\n",
    "\n",
    "#merging my count dataframe from above to have in one final table\n",
    "grouped_metrics_final = pd.merge(grouped_metrics, grouped_df, on = \"Class\", how = \"left\")\n",
    "\n",
    "\n",
    "display(grouped_metrics_final[['Class', 'Win', 'Lose', 'Win_Percentage', 'Number_of_Players']])"
   ]
  },
  {
   "cell_type": "markdown",
   "metadata": {
    "collapsed": true
   },
   "source": [
    "Based on the results above, it is interesting to note that popularity of class does not always mean higher win rate. For example, both 'Druids' and 'Warriors' are high popularity classes while their win rates are both in the lower half.\n",
    "\n",
    "It is also interesting to note that the range of Win_Percentage is more than 10 full percentage points difference. 'Shamans' are at almost 55% while 'Hunters' are lower than 45%. This would likely indicate that there is some class inbalance since it is above my 5% definition of balance.\n",
    "\n",
    "While we recognize there is some inbalance likely, let's dig a little deeper on classes paired with factions. Lets look at the classes by faction and compare the distribution between the two to see if that might be leading to some of the win rate inbalance between factions."
   ]
  },
  {
   "cell_type": "code",
   "execution_count": 7,
   "metadata": {
    "scrolled": false
   },
   "outputs": [
    {
     "data": {
      "image/png": "[encoded data removed]",
      "text/plain": [
       "<Figure size 1080x432 with 1 Axes>"
      ]
     },
     "metadata": {
      "needs_background": "light"
     },
     "output_type": "display_data"
    }
   ],
   "source": [
    "import seaborn as sns\n",
    "\n",
    "#sorting by class then by faction\n",
    "class_faction = wow_data.groupby(['Class', 'Faction']).size()\n",
    "\n",
    "class_faction_group = pd.DataFrame({'Number_of_Players' : class_faction})\n",
    "class_faction_group.reset_index(inplace = True)\n",
    "#display(class_faction_group)\n",
    "\n",
    "plt.figure(figsize=(15, 6))\n",
    "\n",
    "\n",
    "#graphing\n",
    "graph_faction_group = sns.barplot(data=class_faction_group, x='Class', y='Number_of_Players', \n",
    "                                 hue='Faction', )\n",
    "\n",
    "\n"
   ]
  },
  {
   "cell_type": "markdown",
   "metadata": {},
   "source": [
    "From the above, we see that there are some pretty big discrepancies on class selection between faction. For example, 'Shaman' has many more Horde players than Alliance players. It also has the highest win rate from our previous tables. In addition, Alliance tend to have many more 'Druids' and they have one of the lowest win rates. A similar observation can be made with 'Hunters' as well. \n",
    "\n",
    "With that said, it is hard to tell if it is the class that leads to a lower win rate or player skill. However, based on the above, it is likely that some classes would need to be tuned a little better to produce a more 'balanced' win rate. 'Shamans' likely need to be tuned downward whereas a 'Druid' / 'Hunter' would need to be tuned upward.\n",
    "\n",
    "Now let's look at 'Roles' to see if there might be any interesting connections to win rates there."
   ]
  },
  {
   "cell_type": "markdown",
   "metadata": {},
   "source": [
    "# Player Choice Number 3 - What Role to Choose?\n"
   ]
  },
  {
   "cell_type": "markdown",
   "metadata": {},
   "source": [
    "Let's look at the distribution of Healers to damage dealers (DPS). This is important to look at because Healers tend to be very needed to win battlegrounds. If your team can survive longer, then you have the upperhand. Hence, generally more healers means that you have a greater chance of winning. My assumption is, since Horde has a higher win rate, they will likely have more Healers. Let's take a look."
   ]
  },
  {
   "cell_type": "code",
   "execution_count": 8,
   "metadata": {},
   "outputs": [
    {
     "data": {
      "text/html": [
       "<div>\n",
       "<style scoped>\n",
       "    .dataframe tbody tr th:only-of-type {\n",
       "        vertical-align: middle;\n",
       "    }\n",
       "\n",
       "    .dataframe tbody tr th {\n",
       "        vertical-align: top;\n",
       "    }\n",
       "\n",
       "    .dataframe thead th {\n",
       "        text-align: right;\n",
       "    }\n",
       "</style>\n",
       "<table border=\"1\" class=\"dataframe\">\n",
       "  <thead>\n",
       "    <tr style=\"text-align: right;\">\n",
       "      <th></th>\n",
       "      <th>Faction</th>\n",
       "      <th>Rol</th>\n",
       "      <th>Number_of_Players</th>\n",
       "    </tr>\n",
       "  </thead>\n",
       "  <tbody>\n",
       "    <tr>\n",
       "      <th>0</th>\n",
       "      <td>Alliance</td>\n",
       "      <td>dps</td>\n",
       "      <td>2185</td>\n",
       "    </tr>\n",
       "    <tr>\n",
       "      <th>1</th>\n",
       "      <td>Alliance</td>\n",
       "      <td>heal</td>\n",
       "      <td>494</td>\n",
       "    </tr>\n",
       "    <tr>\n",
       "      <th>2</th>\n",
       "      <td>Horde</td>\n",
       "      <td>dps</td>\n",
       "      <td>2134</td>\n",
       "    </tr>\n",
       "    <tr>\n",
       "      <th>3</th>\n",
       "      <td>Horde</td>\n",
       "      <td>heal</td>\n",
       "      <td>570</td>\n",
       "    </tr>\n",
       "  </tbody>\n",
       "</table>\n",
       "</div>"
      ],
      "text/plain": [
       "    Faction   Rol  Number_of_Players\n",
       "0  Alliance   dps               2185\n",
       "1  Alliance  heal                494\n",
       "2     Horde   dps               2134\n",
       "3     Horde  heal                570"
      ]
     },
     "execution_count": 8,
     "metadata": {},
     "output_type": "execute_result"
    }
   ],
   "source": [
    "#sorting by faction then by role\n",
    "role_dist = wow_data.groupby(['Faction','Rol']).size()\n",
    "\n",
    "role_dist = pd.DataFrame({'Number_of_Players' : role_dist}).reset_index()\n",
    "\n",
    "role_dist"
   ]
  },
  {
   "cell_type": "markdown",
   "metadata": {},
   "source": [
    "We see from the above that the Horde have a much larger percentage of healers than Alliance. Out of the Horde players, around 21% are playing Healer (570 / 2704) vs. Alliance only has roughly 15% ( 494 / 2679 ). This is likely causing some of the inbalance between factions, along with class selection, as noted in the prior section. We would need to dig in further to truly evaluate this, but for this exercise, we will stick to just acknowledging that Horde Healers outweight Alliance Healers."
   ]
  },
  {
   "cell_type": "markdown",
   "metadata": {},
   "source": [
    "Lastly, let's drill down one level deeper in looking at some statistics by battleground."
   ]
  },
  {
   "cell_type": "markdown",
   "metadata": {
    "collapsed": true
   },
   "source": [
    "# Player Choice Number 4 - What Battleground to Choose?\n"
   ]
  },
  {
   "cell_type": "markdown",
   "metadata": {},
   "source": [
    "First, let's look at the popularity of each battleground."
   ]
  },
  {
   "cell_type": "code",
   "execution_count": 9,
   "metadata": {},
   "outputs": [
    {
     "data": {
      "text/html": [
       "<div>\n",
       "<style scoped>\n",
       "    .dataframe tbody tr th:only-of-type {\n",
       "        vertical-align: middle;\n",
       "    }\n",
       "\n",
       "    .dataframe tbody tr th {\n",
       "        vertical-align: top;\n",
       "    }\n",
       "\n",
       "    .dataframe thead th {\n",
       "        text-align: right;\n",
       "    }\n",
       "</style>\n",
       "<table border=\"1\" class=\"dataframe\">\n",
       "  <thead>\n",
       "    <tr style=\"text-align: right;\">\n",
       "      <th></th>\n",
       "      <th>Battleground</th>\n",
       "      <th>Player_Count_By_Map</th>\n",
       "    </tr>\n",
       "  </thead>\n",
       "  <tbody>\n",
       "    <tr>\n",
       "      <th>0</th>\n",
       "      <td>DG</td>\n",
       "      <td>209</td>\n",
       "    </tr>\n",
       "    <tr>\n",
       "      <th>1</th>\n",
       "      <td>SA</td>\n",
       "      <td>267</td>\n",
       "    </tr>\n",
       "    <tr>\n",
       "      <th>2</th>\n",
       "      <td>SS</td>\n",
       "      <td>279</td>\n",
       "    </tr>\n",
       "    <tr>\n",
       "      <th>3</th>\n",
       "      <td>ES</td>\n",
       "      <td>473</td>\n",
       "    </tr>\n",
       "    <tr>\n",
       "      <th>4</th>\n",
       "      <td>AB</td>\n",
       "      <td>475</td>\n",
       "    </tr>\n",
       "    <tr>\n",
       "      <th>5</th>\n",
       "      <td>TP</td>\n",
       "      <td>513</td>\n",
       "    </tr>\n",
       "    <tr>\n",
       "      <th>6</th>\n",
       "      <td>SM</td>\n",
       "      <td>734</td>\n",
       "    </tr>\n",
       "    <tr>\n",
       "      <th>7</th>\n",
       "      <td>TK</td>\n",
       "      <td>789</td>\n",
       "    </tr>\n",
       "    <tr>\n",
       "      <th>8</th>\n",
       "      <td>BG</td>\n",
       "      <td>817</td>\n",
       "    </tr>\n",
       "    <tr>\n",
       "      <th>9</th>\n",
       "      <td>WG</td>\n",
       "      <td>827</td>\n",
       "    </tr>\n",
       "  </tbody>\n",
       "</table>\n",
       "</div>"
      ],
      "text/plain": [
       "  Battleground  Player_Count_By_Map\n",
       "0           DG                  209\n",
       "1           SA                  267\n",
       "2           SS                  279\n",
       "3           ES                  473\n",
       "4           AB                  475\n",
       "5           TP                  513\n",
       "6           SM                  734\n",
       "7           TK                  789\n",
       "8           BG                  817\n",
       "9           WG                  827"
      ]
     },
     "metadata": {},
     "output_type": "display_data"
    },
    {
     "data": {
      "image/png": "[encoded data removed]",
      "text/plain": [
       "<Figure size 1080x432 with 1 Axes>"
      ]
     },
     "metadata": {
      "needs_background": "light"
     },
     "output_type": "display_data"
    }
   ],
   "source": [
    "\n",
    "#counting BG players and sorting from least to most.\n",
    "bg_summary = wow_data.groupby('Battleground').size().reset_index(name='Player_Count_By_Map').sort_values(['Player_Count_By_Map'], ascending = False)\n",
    "bg_summary_sort = bg_summary.sort_values('Player_Count_By_Map', ascending = True).reset_index(drop = True)\n",
    "\n",
    "display(bg_summary_sort)\n",
    "\n",
    "bg_summary_sort.set_index('Battleground', inplace=True)\n",
    "\n",
    "#plotting\n",
    "bar_chart_bg = bg_summary_sort.plot.barh(xlabel = \"Player_Count\", ylabel ='Player_Count_By_Map', \n",
    "                                            figsize = (15,6),\n",
    "                                            fontsize = 15,\n",
    "                                            title = \"Popularity of Each Battleground\",\n",
    "                                            color = 'cadetblue'\n",
    "                                            )\n",
    "\n",
    "\n"
   ]
  },
  {
   "cell_type": "markdown",
   "metadata": {},
   "source": [
    "We first see that \"WG\" is the most popular map whereas \"DG\" is the least popular map. Now let's compare this to win rates by faction.  If a game is balanced, you would see a similar win rate between Horde and Alliance. In addition, you would see similar win rates on each battleground. Just because a different map is chosen, doesn't mean that there should be a signficant change in win rate. "
   ]
  },
  {
   "cell_type": "code",
   "execution_count": 10,
   "metadata": {},
   "outputs": [
    {
     "data": {
      "text/html": [
       "<div>\n",
       "<style scoped>\n",
       "    .dataframe tbody tr th:only-of-type {\n",
       "        vertical-align: middle;\n",
       "    }\n",
       "\n",
       "    .dataframe tbody tr th {\n",
       "        vertical-align: top;\n",
       "    }\n",
       "\n",
       "    .dataframe thead th {\n",
       "        text-align: right;\n",
       "    }\n",
       "</style>\n",
       "<table border=\"1\" class=\"dataframe\">\n",
       "  <thead>\n",
       "    <tr style=\"text-align: right;\">\n",
       "      <th></th>\n",
       "      <th>Battleground</th>\n",
       "      <th>Win_Percentage_Horde</th>\n",
       "      <th>Win_Percentage_Ally</th>\n",
       "      <th>Player_Count_By_Map</th>\n",
       "    </tr>\n",
       "  </thead>\n",
       "  <tbody>\n",
       "    <tr>\n",
       "      <th>0</th>\n",
       "      <td>WG</td>\n",
       "      <td>55.18%</td>\n",
       "      <td>44.82%</td>\n",
       "      <td>827</td>\n",
       "    </tr>\n",
       "    <tr>\n",
       "      <th>1</th>\n",
       "      <td>BG</td>\n",
       "      <td>67.07%</td>\n",
       "      <td>32.93%</td>\n",
       "      <td>817</td>\n",
       "    </tr>\n",
       "    <tr>\n",
       "      <th>2</th>\n",
       "      <td>TK</td>\n",
       "      <td>67.84%</td>\n",
       "      <td>32.16%</td>\n",
       "      <td>789</td>\n",
       "    </tr>\n",
       "    <tr>\n",
       "      <th>3</th>\n",
       "      <td>SM</td>\n",
       "      <td>62.23%</td>\n",
       "      <td>37.77%</td>\n",
       "      <td>734</td>\n",
       "    </tr>\n",
       "    <tr>\n",
       "      <th>4</th>\n",
       "      <td>TP</td>\n",
       "      <td>43.14%</td>\n",
       "      <td>56.86%</td>\n",
       "      <td>513</td>\n",
       "    </tr>\n",
       "    <tr>\n",
       "      <th>5</th>\n",
       "      <td>AB</td>\n",
       "      <td>87.82%</td>\n",
       "      <td>12.18%</td>\n",
       "      <td>475</td>\n",
       "    </tr>\n",
       "    <tr>\n",
       "      <th>6</th>\n",
       "      <td>ES</td>\n",
       "      <td>74.90%</td>\n",
       "      <td>25.10%</td>\n",
       "      <td>473</td>\n",
       "    </tr>\n",
       "    <tr>\n",
       "      <th>7</th>\n",
       "      <td>SS</td>\n",
       "      <td>50.36%</td>\n",
       "      <td>49.64%</td>\n",
       "      <td>279</td>\n",
       "    </tr>\n",
       "    <tr>\n",
       "      <th>8</th>\n",
       "      <td>SA</td>\n",
       "      <td>66.67%</td>\n",
       "      <td>33.33%</td>\n",
       "      <td>267</td>\n",
       "    </tr>\n",
       "    <tr>\n",
       "      <th>9</th>\n",
       "      <td>DG</td>\n",
       "      <td>57.69%</td>\n",
       "      <td>42.31%</td>\n",
       "      <td>209</td>\n",
       "    </tr>\n",
       "  </tbody>\n",
       "</table>\n",
       "</div>"
      ],
      "text/plain": [
       "  Battleground Win_Percentage_Horde Win_Percentage_Ally  Player_Count_By_Map\n",
       "0           WG               55.18%              44.82%                  827\n",
       "1           BG               67.07%              32.93%                  817\n",
       "2           TK               67.84%              32.16%                  789\n",
       "3           SM               62.23%              37.77%                  734\n",
       "4           TP               43.14%              56.86%                  513\n",
       "5           AB               87.82%              12.18%                  475\n",
       "6           ES               74.90%              25.10%                  473\n",
       "7           SS               50.36%              49.64%                  279\n",
       "8           SA               66.67%              33.33%                  267\n",
       "9           DG               57.69%              42.31%                  209"
      ]
     },
     "metadata": {},
     "output_type": "display_data"
    }
   ],
   "source": [
    "#pulling out Faction data = Horde\n",
    "Faction_Horde = wow_data[wow_data['Faction'] == 'Horde']\n",
    "\n",
    "#pulling out Faction data = Alliance\n",
    "Faction_Alliance = wow_data[wow_data['Faction'] == 'Alliance']\n",
    "\n",
    "#calculating win rates by Horde & Ally\n",
    "bg_horde = Faction_Horde.groupby('Battleground').sum().reset_index()\n",
    "bg_horde['Win_Percentage_Horde'] = bg_horde['Win'] / (bg_horde['Win'] + bg_horde['Lose'])\n",
    "bg_horde['Win_Percentage_Ally'] = 1 - bg_horde['Win_Percentage_Horde']\n",
    "bg_horde['Win_Percentage_Horde'] = bg_horde['Win_Percentage_Horde'].map(lambda x: \"{:.2%}\".format(x))\n",
    "bg_horde['Win_Percentage_Ally'] = bg_horde['Win_Percentage_Ally'].map(lambda x: \"{:.2%}\".format(x))\n",
    "\n",
    "df_bg_horde = bg_horde[['Battleground','Win_Percentage_Horde', 'Win_Percentage_Ally']]\n",
    "\n",
    "#merging player count by battleground and win rate of horde vs. ally\n",
    "final_df_bg = pd.merge(df_bg_horde, bg_summary, how = 'left', on = 'Battleground')\n",
    "\n",
    "\n",
    "\n",
    "final_sorted = final_df_bg.sort_values(by = ['Player_Count_By_Map'], ascending = False).reset_index(drop = True)\n",
    "                          \n",
    "display(final_sorted)\n"
   ]
  },
  {
   "cell_type": "markdown",
   "metadata": {
    "collapsed": true
   },
   "source": [
    "We see from the above that both definitions of \"win rate\" as I defined above are violated. Looking at Horde vs. Alliance, we don't see very similar win rates. On a few maps we do, such as \"SS\" we see a pretty balanced map where Horde comes in at 50.36% and Alliance at 49.64%. On the other hand, there are maps like \"AB\" where Horde has an overwhelming win rate at 87.82%. While I expected to see the Horde vs. Alliance win rates to be significantly different since we proved this earlier, we see that even by battleground, the game is not \"balanced\" by my definition.\n",
    "\n",
    "It is also interesting to note that the most balanced maps are not necessarily the most played. \"AB\" is one of the most unbalanced maps and is in the middle of the pack. Whereas \"SS\" is very balanced but towards the bottom of player_count."
   ]
  },
  {
   "cell_type": "markdown",
   "metadata": {},
   "source": [
    "For the last part of this analysis, let's look at the breakdown of class for a map that has a more even win rate (such as 'SS') and then an uneven win rate map (such as 'AB') to see the composition breakdown per faction by class. My assumption is that the distribution of class selection will vary greatly between the two. For example, I expect to see many more Alliance 'Druids' and 'Hunters' in 'AB' since their win rates are much lower by comparison.\n",
    "\n",
    "First lets look at 'SS' where the win rate is relatively even. And then we will also graph 'AB' which is very uneven."
   ]
  },
  {
   "cell_type": "code",
   "execution_count": 11,
   "metadata": {},
   "outputs": [
    {
     "data": {
      "text/plain": [
       "Text(0.5, 1.0, 'Number of players by Faction by Class in Battleground SS')"
      ]
     },
     "execution_count": 11,
     "metadata": {},
     "output_type": "execute_result"
    },
    {
     "data": {
      "image/png": "[encoded data removed]",
      "text/plain": [
       "<Figure size 1080x432 with 1 Axes>"
      ]
     },
     "metadata": {
      "needs_background": "light"
     },
     "output_type": "display_data"
    }
   ],
   "source": [
    "#grouping by battleground, faction, and then class\n",
    "bg_class = wow_data.groupby(['Battleground','Faction','Class']).size()\n",
    "\n",
    "bg_class_df = pd.DataFrame({'Number_of_Players' : bg_class}).reset_index()\n",
    "\n",
    "#looking at BG = SS only\n",
    "ss_bg_class = bg_class_df[bg_class_df['Battleground'] == 'SS']\n",
    "\n",
    "plt.figure(figsize=(15, 6))\n",
    "\n",
    "#plotting\n",
    "graph_faction_SS = sns.barplot(data=ss_bg_class, x='Class', y='Number_of_Players', \n",
    "                                 hue='Faction')\n",
    "\n",
    "graph_faction_SS.set_title('Number of players by Faction by Class in Battleground SS')\n",
    "\n",
    "\n"
   ]
  },
  {
   "cell_type": "code",
   "execution_count": 12,
   "metadata": {},
   "outputs": [
    {
     "data": {
      "text/plain": [
       "Text(0.5, 1.0, 'Number of players by Faction by Class in Battleground AB')"
      ]
     },
     "execution_count": 12,
     "metadata": {},
     "output_type": "execute_result"
    },
    {
     "data": {
      "image/png": "[encoded data removed]",
      "text/plain": [
       "<Figure size 1080x432 with 1 Axes>"
      ]
     },
     "metadata": {
      "needs_background": "light"
     },
     "output_type": "display_data"
    }
   ],
   "source": [
    "#looking at Battleground AB only\n",
    "\n",
    "ab_bg_class = bg_class_df[bg_class_df['Battleground'] == 'AB']\n",
    "\n",
    "plt.figure(figsize=(15, 6))\n",
    "\n",
    "graph_faction_AB = sns.barplot(data=ab_bg_class, x='Class', y='Number_of_Players', \n",
    "                                 hue='Faction')\n",
    "\n",
    "graph_faction_AB.set_title('Number of players by Faction by Class in Battleground AB')"
   ]
  },
  {
   "cell_type": "markdown",
   "metadata": {},
   "source": [
    "Based on these two charts, there are some interesting things to point out:\n",
    "\n",
    "- 'Druids' and 'Shamans' were the most popular for Alliance & Horde, respectively. This is the same for the two subsets of battlerounds I chose above for 'AB' and 'SS'.  Recall though that 'Druids' have one of the worst win rates whereas 'Shamans' have one of the best win rates.\n",
    "\n",
    "- 'Hunters' were more popular in 'AB' for the Alliance and they have the worst win rates among all Classes.\n",
    "\n",
    "- 'Rogues' were much more popular in 'AB' for the Horde than 'SS' and they have the 3rd highest win rate.\n",
    "\n",
    "- The rest of the distribution is pretty similar among Alliance vs. Horde in 'SS' and 'AB'. While there are some slight differences, the class win rate likely does not play an effect on these other classes due to it being more balanced."
   ]
  },
  {
   "cell_type": "markdown",
   "metadata": {},
   "source": [
    "In general, it is difficult to say that class selection greatly affects the win rate of the individual battleground and would require further digging. While there are some variations between the two battlegrounds in 'Hunters' and 'Rogues', we still see 'Druids' and 'Shamans' at a very high rate but the overall battleground win rate is greatly different, meaning, that class selection may play less of a role here than anticipated. However, there is likely some degree of effect in what classes are playing in a battleground, but in general, there are liklely other factors that come into play that are not being represented by my analysis here."
   ]
  },
  {
   "cell_type": "markdown",
   "metadata": {},
   "source": [
    "# Conclusion"
   ]
  },
  {
   "cell_type": "markdown",
   "metadata": {},
   "source": [
    "In general, we have observed that there are quite a few inbalances in this version of World of Warcraft. We were looking at differences greater than +/- 5% which we found quite a few.\n",
    "\n",
    "After looking at the data we have found the following:\n",
    "\n",
    "- The distribution of Horde & Alliance are similar. However, Horde's winrate (63%) is overwhelmingly higher than Alliance (37%) across all battlegrounds. This violates the defition of balanced.\n",
    "\n",
    "- Class distribution between Horde & Alliance is pretty uneven. This matters because the win rate between classes are not balanced based on the data. We see that the win rate between the highest win rate class ('Shamans') and the lowest win rate class ('Druids') are greater than 5%. This would violate my definition of balanced.\n",
    "\n",
    "- The win rate between battlegrounds is also not balanced. Some battlegrounds have a relatively even win rate while others have a very disparate win rate between factions. Most battlegrounds have larger than a 5% difference violating my defition of balanced.\n",
    "\n",
    "Based on the above, it is likely to conclude that the game is not balanced in its current state. Balance is one of the hardest things to accomplish in a game and is always being fine tuned. The question becomes, what do you adjust to try and make the game more fair? Below are some thoughts on future adjustments or further analysis that needs to potentially be done to address."
   ]
  },
  {
   "cell_type": "markdown",
   "metadata": {},
   "source": [
    "- We see that the percentage of healers on the Horde faction are greater than the Alliance faction. While we did not dig into win rates with more healers, my assumption is this leads to some of the inbalance. This would need to be studied further and the game could be adjusted accordingly. For example, the game maker could limit the amount of healers in a battleground to make it even between the two teams. \n",
    "  \n",
    "  - *(Note: This has actually been done in more current versions of the game. Likely combating inbalance.)*\n",
    "  \n",
    "\n",
    "- It would be good to dive into player metrics themselves. Based on the data above, it is difficult to determine if it is the class that is leading to the loss or if it is the player themselves not being as skilled. Taking groups of players with similar skillsets and then comparing them would be an effective way to dive deeper into class balance. \n",
    "\n",
    "  - *(Note: this does go on within some video games and game makers have created something called \"matchmaking\" which puts similar skilled players against eachother. Unsure if the same has been done within World of Warcraft.)*\n",
    "  \n",
    "\n",
    "- Digging into more specifics on each battleground would also be interesting. While I did not discuss it here, each map has a different objective in order to win. It would be important to look at and make sure that Horde does not have some inherent advantage over Alliance for some reason. \n",
    "\n",
    "\n",
    "- It is interesting to note that some of the most unbalanced battlegrounds are the most played. That is an interesting concept and should be evaluated why that is the case. Even if unbalanced gameplay is evident, players are choosing those battlegrounds to be the most popular likely for some reason. While maybe it doesn't help game balance, it could be used to determine what players are enjoying most and use it to create more future engaging experiences.\n",
    "\n"
   ]
  },
  {
   "cell_type": "markdown",
   "metadata": {},
   "source": [
    "In general, my analysis just scratches the surface of game balance. And my suggestions above are just starting points. I believe balance is a constant changing goal in a video game and needs to be addressed constantly to keep the game fresh, fair, and enjoyable for all audiences. As time has gone on, balance has been more of a key focus with many video games and using data can only enhance the ability to maximize balance within a game."
   ]
  }
 ],
 "metadata": {
  "kernelspec": {
   "display_name": "Python 3.8",
   "language": "python",
   "name": "python38"
  },
  "language_info": {
   "codemirror_mode": {
    "name": "ipython",
    "version": 3
   },
   "file_extension": ".py",
   "mimetype": "text/x-python",
   "name": "python",
   "nbconvert_exporter": "python",
   "pygments_lexer": "ipython3",
   "version": "3.8.7"
  }
 },
 "nbformat": 4,
 "nbformat_minor": 2
}
